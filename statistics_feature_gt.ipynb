{
 "cells": [
  {
   "cell_type": "code",
   "execution_count": 1,
   "metadata": {
    "collapsed": true,
    "pycharm": {
     "is_executing": false
    }
   },
   "outputs": [],
   "source": [
    "import networkx as nx\n",
    "import numpy as np\n",
    "import torch\n",
    "import matplotlib.pyplot as plt\n",
    "from torch import nn\n",
    "from collections import OrderedDict"
   ]
  },
  {
   "cell_type": "code",
   "execution_count": 2,
   "outputs": [],
   "source": [
    "import dgl\n",
    "from data.data import LoadData\n",
    "\n",
    "\n",
    "class DotDict(dict):\n",
    "    def __init__(self, **kwds):\n",
    "        self.update(kwds)\n",
    "        self.__dict__ = self\n"
   ],
   "metadata": {
    "collapsed": false,
    "pycharm": {
     "name": "#%%\n",
     "is_executing": false
    }
   }
  },
  {
   "cell_type": "code",
   "execution_count": 3,
   "outputs": [],
   "source": [
    "# model = torch.load('out/SBMs_node_classification/checkpoints/GAT_SBM_CLUSTER_a8_GPU2_08h05m22s_on_May_03_2020/RUN_/epoch_69.pkl')\n",
    "# embedding_table = model['embedding_h.weight']\n",
    "# print(embedding_table)\n"
   ],
   "metadata": {
    "collapsed": false,
    "pycharm": {
     "name": "#%%\n",
     "is_executing": false
    }
   }
  },
  {
   "cell_type": "code",
   "execution_count": 31,
   "outputs": [
    {
     "name": "stdout",
     "text": [
      "[I] Loading dataset SBM_CLUSTER_SAMPLE_a8...\n",
      "C:\\Users\\user\\Desktop\\project\\benchmarking_gnns\n",
      "train, test, val sizes : 100 10 10\n",
      "[I] Finished loading.\n",
      "[I] Data load time: 0.1705s\n"
     ],
     "output_type": "stream"
    }
   ],
   "source": [
    "# def get_values_statistics(DATASET_NAME):\n",
    "#     dataset = LoadData(DATASET_NAME)\n",
    "#     train, test, val = dataset.train, dataset.test, dataset.val\n",
    "#     xe = []\n",
    "#     K_list = []\n",
    "#     feat_diff_list = []\n",
    "#     for data in train.dataset:\n",
    "#         W = data['W']\n",
    "#         g_nx = nx.from_numpy_matrix(W.data.numpy())\n",
    "#         edges = g_nx.edges\n",
    "#         for u, v in edges:\n",
    "#             node_label = data['node_label']\n",
    "#             u_label = node_label[u]\n",
    "#             v_label = node_label[v]\n",
    "#             loss = (- torch.sum(v_label * torch.log(u_label)))\n",
    "#             loss = loss.sum(dim=0)\n",
    "#             node_feat = data['node_feat']\n",
    "#             u_feat = embedding_table[node_feat[u].item()]\n",
    "#             v_feat = embedding_table[node_feat[v].item()]\n",
    "#             feat_sub = torch.sum(torch.abs(u_feat.sub(v_feat))).to(float).item()\n",
    "#             feat_diff_list.append(feat_sub)\n",
    "#             K = torch.abs(loss).float()/torch.norm((u_feat-v_feat).float(),2).float().item()\n",
    "#             xe.append(loss.item())\n",
    "#             K_list.append(K)  \n",
    "#     return xe, K_list, feat_diff_list\n",
    "# \n",
    "# DATASET_NAME_LIST = ['SBM_CLUSTER_SAMPLE_a8', 'SBM_CLUSTER_7', 'SBM_CLUSTER_a9']\n",
    "# xe, K_list, feat_diff_list = get_values_statistics(DATASET_NAME_LIST[0])"
   ],
   "metadata": {
    "collapsed": false,
    "pycharm": {
     "name": "#%%\n",
     "is_executing": false
    }
   }
  },
  {
   "cell_type": "code",
   "execution_count": null,
   "outputs": [],
   "source": [
    "# feat_max = int(np.max(feat_diff_list))\n",
    "# feat_range = [x for x in range(0, feat_max, 1)]\n",
    "# \n",
    "# def draw(xe, ed):\n",
    "#     fig=plt.figure()\n",
    "#     ax=fig.add_axes([0,0,1,1])\n",
    "#     ax.scatter(feat_diff_list,xe , color='r')\n",
    "#     ax.scatter(feat_diff_list, , color='b')\n",
    "    # ax.set_xlabel('Difference between feature u and v')\n",
    "    # ax.set_ylabel('Cross entropy')\n",
    "    # ax.set_title('scatter plot')\n",
    "    # plt.show()\n",
    "#         \n",
    "# draw(xe, feat_diff_list)\n",
    "        "
   ],
   "metadata": {
    "collapsed": false,
    "pycharm": {
     "name": "#%%\n"
    }
   }
  },
  {
   "cell_type": "code",
   "execution_count": 3,
   "outputs": [
    {
     "name": "stdout",
     "text": [
      "[I] Loading dataset SBM_CLUSTER_a8...\n",
      "C:\\Users\\user\\Desktop\\project\\benchmarking_gnns\n",
      "train, test, val sizes : 10000 1000 1000\n",
      "[I] Finished loading.\n",
      "[I] Data load time: 20.1341s\n",
      "[I] Loading dataset SBM_CLUSTER...\n",
      "train, test, val sizes : 10000 1000 1000\n",
      "[I] Finished loading.\n",
      "[I] Data load time: 21.4786s\n"
     ],
     "output_type": "stream"
    }
   ],
   "source": [
    "dataset_cluster_a8 = LoadData('SBM_CLUSTER_a8')\n",
    "dataset_cluster = LoadData('SBM_CLUSTER')\n"
   ],
   "metadata": {
    "collapsed": false,
    "pycharm": {
     "name": "#%%\n",
     "is_executing": false
    }
   }
  },
  {
   "cell_type": "code",
   "execution_count": 4,
   "outputs": [],
   "source": [
    "# edge_idx 0 is any edge\n",
    "def get_xe_losses(dataset):\n",
    "    edges_idx_dict = OrderedDict()\n",
    "    idx = 0\n",
    "    xe_losses = []\n",
    "    train, test, val = dataset.train, dataset.test, dataset.val\n",
    "\n",
    "    for w_idx, data in enumerate(train.dataset):\n",
    "        xe_losses.append(0)\n",
    "        W = data['W']\n",
    "        g_nx = nx.from_numpy_matrix(W.data.numpy())\n",
    "        edges = g_nx.edges\n",
    "        for u, v in edges:\n",
    "            if str(u)+\"_\"+str(v) +\"_\" + str(w_idx) in edges_idx_dict.keys():\n",
    "                continue\n",
    "            edges_idx_dict[str(u)+\"_\"+str(v)+\"_\"+str(w_idx)] = idx\n",
    "            idx+=1\n",
    "            \n",
    "            node_label = data['node_label']\n",
    "            u_label = node_label[u].to(float)\n",
    "            v_label = node_label[v].to(float)\n",
    "            \n",
    "            loss = (- torch.sum(v_label * torch.log(u_label)))\n",
    "            loss = loss.sum(dim=0)\n",
    "            xe_losses[w_idx] += loss.item()\n",
    "    # idx_edge_dict = OrderedDict()\n",
    "    # for k,v in edges_idx_dict.items():\n",
    "    #     idx_edge_dict[v] = k\n",
    "    # sorted_idx = np.argmax(xe_losses)\n",
    "    # sorted_xe_list = sorted(xe_losses) \n",
    "    \n",
    "    # sorted_edge_dict = OrderedDict()\n",
    "    # for idx in sorted_idx:\n",
    "    #     sorted_edge_dict[edges_idx_dict[idx]]= idx\n",
    "    #TODO sorting XE, edges\n",
    "    # return sorted_xe_list, edges_idx_dict, sorted_edge_dict\n",
    "    return xe_losses, edges_idx_dict"
   ],
   "metadata": {
    "collapsed": false,
    "pycharm": {
     "name": "#%%\n",
     "is_executing": false
    }
   }
  },
  {
   "cell_type": "code",
   "execution_count": 5,
   "outputs": [],
   "source": [
    "xe_losses, edges_idx_dict = get_xe_losses(dataset_cluster)\n",
    "#TODO get XE by using edges_list"
   ],
   "metadata": {
    "collapsed": false,
    "pycharm": {
     "name": "#%%\n",
     "is_executing": false
    }
   }
  },
  {
   "cell_type": "code",
   "execution_count": 6,
   "outputs": [],
   "source": [
    "def get_max_diff_losses_btw_original_and_smooth(dataset, xe_losses, edges_idx_dict):\n",
    "    train, test, val = dataset.train, dataset.test, dataset.val\n",
    "    edge_idx_list = []\n",
    "    max_loss = 0\n",
    "    max_loss_idx = 0\n",
    "    for w_idx, data in enumerate(train.dataset):\n",
    "        W = data['W']\n",
    "        g_nx = nx.from_numpy_matrix(W.data.numpy())\n",
    "        edges = g_nx.edges\n",
    "        losses = 0\n",
    "        for u, v in edges:\n",
    "            edge_idx = 0\n",
    "            key_edge = str(u)+\"_\"+str(v) +\"_\"+str(w_idx)\n",
    "            if key_edge in edges_idx_dict.keys():\n",
    "                edge_idx = edges_idx_dict[key_edge]\n",
    "            edge_idx_list.append(edge_idx)\n",
    "            \n",
    "            node_label = data['node_label']\n",
    "            u_label = node_label[u].to(float)\n",
    "            v_label = node_label[v].to(float)\n",
    "            \n",
    "            loss = (- torch.sum(v_label * torch.log(u_label)))\n",
    "            loss = loss.sum(dim=0)\n",
    "            losses += loss\n",
    "        \n",
    "        diff_loss = xe_losses[w_idx] - losses\n",
    "        if diff_loss < max_loss:\n",
    "            max_loss_idx = w_idx\n",
    "            max_loss = diff_loss\n",
    "            \n",
    "    max_W = train.dataset[max_loss_idx]['W']\n",
    "    g_nx = nx.from_numpy_matrix(max_W.data.numpy())\n",
    "    max_edges = g_nx.edges\n",
    "    \n",
    "    smoothed_losses = []\n",
    "    for u, v in max_edges:\n",
    "        node_label = data['node_label']\n",
    "        u_label = node_label[u].to(float)\n",
    "        v_label = node_label[v].to(float)\n",
    "            \n",
    "        loss = (- torch.sum(v_label * torch.log(u_label)))\n",
    "        loss = loss.sum(dim=0)\n",
    "        smoothed_losses.append(loss)\n",
    "    \n",
    "    # sorted_xe_list = sorted(cross_entropy_loesses, key=lambda k: edge_idx_list)\n",
    "    return max_edges, smoothed_losses, xe_losses[w_idx]"
   ],
   "metadata": {
    "collapsed": false,
    "pycharm": {
     "name": "#%%\n",
     "is_executing": false
    }
   }
  },
  {
   "cell_type": "code",
   "execution_count": 8,
   "outputs": [
    {
     "traceback": [
      "\u001b[1;31m---------------------------------------------------------------------------\u001b[0m",
      "\u001b[1;31mIndexError\u001b[0m                                Traceback (most recent call last)",
      "\u001b[1;32m<ipython-input-8-66b1be5b2956>\u001b[0m in \u001b[0;36m<module>\u001b[1;34m\u001b[0m\n\u001b[1;32m----> 1\u001b[1;33m \u001b[0mmax_edges\u001b[0m\u001b[1;33m,\u001b[0m \u001b[0msmoothed_losses\u001b[0m\u001b[1;33m,\u001b[0m \u001b[0mmax_original_losses\u001b[0m \u001b[1;33m=\u001b[0m \u001b[0mget_max_diff_losses_btw_original_and_smooth\u001b[0m\u001b[1;33m(\u001b[0m\u001b[0mdataset_cluster_a8\u001b[0m\u001b[1;33m,\u001b[0m \u001b[0mxe_losses\u001b[0m\u001b[1;33m,\u001b[0m \u001b[0medges_idx_dict\u001b[0m\u001b[1;33m)\u001b[0m\u001b[1;33m\u001b[0m\u001b[1;33m\u001b[0m\u001b[0m\n\u001b[0m\u001b[0;32m      2\u001b[0m \u001b[1;31m# edge_dict_cluster = get_edges('SBM_PATTERN')\u001b[0m\u001b[1;33m\u001b[0m\u001b[1;33m\u001b[0m\u001b[1;33m\u001b[0m\u001b[0m\n\u001b[0;32m      3\u001b[0m \u001b[1;33m\u001b[0m\u001b[0m\n",
      "\u001b[1;32m<ipython-input-6-65a828ca2d31>\u001b[0m in \u001b[0;36mget_max_diff_losses_btw_original_and_smooth\u001b[1;34m(dataset, xe_losses, edges_idx_dict)\u001b[0m\n\u001b[0;32m     37\u001b[0m         \u001b[0mnode_label\u001b[0m \u001b[1;33m=\u001b[0m \u001b[0mdata\u001b[0m\u001b[1;33m[\u001b[0m\u001b[1;34m'node_label'\u001b[0m\u001b[1;33m]\u001b[0m\u001b[1;33m\u001b[0m\u001b[1;33m\u001b[0m\u001b[0m\n\u001b[0;32m     38\u001b[0m         \u001b[0mu_label\u001b[0m \u001b[1;33m=\u001b[0m \u001b[0mnode_label\u001b[0m\u001b[1;33m[\u001b[0m\u001b[0mu\u001b[0m\u001b[1;33m]\u001b[0m\u001b[1;33m.\u001b[0m\u001b[0mto\u001b[0m\u001b[1;33m(\u001b[0m\u001b[0mfloat\u001b[0m\u001b[1;33m)\u001b[0m\u001b[1;33m\u001b[0m\u001b[1;33m\u001b[0m\u001b[0m\n\u001b[1;32m---> 39\u001b[1;33m         \u001b[0mv_label\u001b[0m \u001b[1;33m=\u001b[0m \u001b[0mnode_label\u001b[0m\u001b[1;33m[\u001b[0m\u001b[0mv\u001b[0m\u001b[1;33m]\u001b[0m\u001b[1;33m.\u001b[0m\u001b[0mto\u001b[0m\u001b[1;33m(\u001b[0m\u001b[0mfloat\u001b[0m\u001b[1;33m)\u001b[0m\u001b[1;33m\u001b[0m\u001b[1;33m\u001b[0m\u001b[0m\n\u001b[0m\u001b[0;32m     40\u001b[0m \u001b[1;33m\u001b[0m\u001b[0m\n\u001b[0;32m     41\u001b[0m         \u001b[0mloss\u001b[0m \u001b[1;33m=\u001b[0m \u001b[1;33m(\u001b[0m\u001b[1;33m-\u001b[0m \u001b[0mtorch\u001b[0m\u001b[1;33m.\u001b[0m\u001b[0msum\u001b[0m\u001b[1;33m(\u001b[0m\u001b[0mv_label\u001b[0m \u001b[1;33m*\u001b[0m \u001b[0mtorch\u001b[0m\u001b[1;33m.\u001b[0m\u001b[0mlog\u001b[0m\u001b[1;33m(\u001b[0m\u001b[0mu_label\u001b[0m\u001b[1;33m)\u001b[0m\u001b[1;33m)\u001b[0m\u001b[1;33m)\u001b[0m\u001b[1;33m\u001b[0m\u001b[1;33m\u001b[0m\u001b[0m\n",
      "\u001b[1;31mIndexError\u001b[0m: index 115 is out of bounds for dimension 0 with size 114"
     ],
     "ename": "IndexError",
     "evalue": "index 115 is out of bounds for dimension 0 with size 114",
     "output_type": "error"
    }
   ],
   "source": [
    "max_edges, smoothed_losses, max_original_losses = get_max_diff_losses_btw_original_and_smooth(dataset_cluster_a8, xe_losses, edges_idx_dict)\n",
    "# edge_dict_cluster = get_edges('SBM_PATTERN')"
   ],
   "metadata": {
    "collapsed": false,
    "pycharm": {
     "name": "#%%\n",
     "is_executing": false
    }
   }
  },
  {
   "cell_type": "code",
   "execution_count": 49,
   "outputs": [
    {
     "name": "stdout",
     "text": [
      "[I] Loading dataset SBM_CLUSTER...\n",
      "train, test, val sizes : 10000 1000 1000\n",
      "[I] Finished loading.\n",
      "[I] Data load time: 35.9160s\n",
      "[I] Loading dataset SBM_CLUSTER_a8...\n",
      "C:\\Users\\user\\Desktop\\project\\benchmarking_gnns\n",
      "train, test, val sizes : 10000 1000 1000\n",
      "[I] Finished loading.\n",
      "[I] Data load time: 113.0859s\n"
     ],
     "output_type": "stream"
    }
   ],
   "source": [
    "# def get_values_statistics(dataset, edge_dict):\n",
    "#     train, test, val = dataset.train, dataset.test, dataset.val\n",
    "#     xe = []\n",
    "#     edge_idx_list = []\n",
    "#     for w_idx, data in enumerate(train.dataset):\n",
    "#         W = data['W']\n",
    "#         g_nx = nx.from_numpy_matrix(W.data.numpy())\n",
    "#         edges = g_nx.edges\n",
    "#         for u, v in edges:\n",
    "#             edge_idx = 0\n",
    "# \n",
    "#             key_edge = str(u)+\"_\"+str(v) +\"_\"+str(w_idx)\n",
    "#             if key_edge in edge_dict.keys():\n",
    "#                 edge_idx = edge_dict[key_edge]\n",
    "#             edge_idx_list.append(edge_idx)\n",
    "#             \n",
    "#             node_label = data['node_label']\n",
    "#             u_label = node_label[u].to(float)\n",
    "#             v_label = node_label[v].to(float)\n",
    "#             \n",
    "#             loss = (- torch.sum(v_label * torch.log(u_label)))\n",
    "#             loss = loss.sum(dim=0)\n",
    "#             xe.append(loss.item())\n",
    "#     return xe, edge_idx_list\n",
    "# \n",
    "# DATASET_NAME_LIST = ['SBM_CLUSTER', 'SBM_CLUSTER_a8']\n",
    "# sorted_xe_list, edge_idx_list= get_values_statistics(edge_dict_cluster, edge_dict_cluster)\n",
    "# xe2, edge_idx_list2= get_values_statistics(edge_dict_cluster_a8, edge_dict_cluster_a8)"
   ],
   "metadata": {
    "collapsed": false,
    "pycharm": {
     "name": "#%%\n",
     "is_executing": false
    }
   }
  },
  {
   "cell_type": "code",
   "execution_count": null,
   "outputs": [],
   "source": [
    "def draw(xe, edge_idx_list, xe2, edge_idx_list2):\n",
    "    fig=plt.figure()\n",
    "    ax=fig.add_axes([0,0,1,1])\n",
    "    ax.scatter(edge_idx_list, xe , color='r')\n",
    "    ax.scatter(edge_idx_list2, xe2, color='b')\n",
    "    ax.set_xlabel('edge index')\n",
    "    ax.set_ylabel('Cross entropy')\n",
    "    ax.set_title('scatter plot')\n",
    "    plt.show()\n",
    "    plt.savefig('xe_edges.png')"
   ],
   "metadata": {
    "collapsed": false,
    "pycharm": {
     "name": "#%%\n",
     "is_executing": false
    }
   }
  },
  {
   "cell_type": "code",
   "execution_count": null,
   "outputs": [],
   "source": [
    "# def draw(xe, edge_idx_list, xe2, edge_idx_list2):\n",
    "#     fig=plt.figure()\n",
    "#     ax=fig.add_axes([0,0,1,1])\n",
    "#     ax.scatter(edge_idx_list, xe , color='r')\n",
    "#     ax.scatter(edge_idx_list2, xe2, color='b')\n",
    "#     ax.set_xlabel('edge idxs')\n",
    "#     ax.set_ylabel('Cross entropy')\n",
    "#     ax.set_title('scatter plot')\n",
    "#     plt.show()\n",
    "#         \n",
    "draw(smoothed_losses, max_edges, smoothed_losses, max_edges)\n",
    "\n"
   ],
   "metadata": {
    "collapsed": false,
    "pycharm": {
     "name": "#%%\n",
     "is_executing": false
    }
   }
  },
  {
   "cell_type": "code",
   "execution_count": 39,
   "outputs": [
    {
     "name": "stdout",
     "text": [
      "220607\n"
     ],
     "output_type": "stream"
    }
   ],
   "source": [
    "\n",
    "\n",
    "\n",
    "\n"
   ],
   "metadata": {
    "collapsed": false,
    "pycharm": {
     "name": "#%%\n",
     "is_executing": false
    }
   }
  },
  {
   "cell_type": "code",
   "execution_count": null,
   "outputs": [],
   "source": [
    "\n"
   ],
   "metadata": {
    "collapsed": false,
    "pycharm": {
     "name": "#%%\n"
    }
   }
  },
  {
   "cell_type": "code",
   "execution_count": 3,
   "outputs": [
    {
     "traceback": [
      "\u001b[1;31m---------------------------------------------------------------------------\u001b[0m",
      "\u001b[1;31mNameError\u001b[0m                                 Traceback (most recent call last)",
      "\u001b[1;32m<ipython-input-3-d78169a6a43c>\u001b[0m in \u001b[0;36m<module>\u001b[1;34m\u001b[0m\n\u001b[0;32m      1\u001b[0m \u001b[1;32mfor\u001b[0m \u001b[0mdata\u001b[0m \u001b[1;32min\u001b[0m \u001b[0mtrain\u001b[0m\u001b[1;33m.\u001b[0m\u001b[0mdataset\u001b[0m\u001b[1;33m:\u001b[0m\u001b[1;33m\u001b[0m\u001b[1;33m\u001b[0m\u001b[0m\n\u001b[1;32m----> 2\u001b[1;33m     \u001b[0mG\u001b[0m \u001b[1;33m=\u001b[0m \u001b[0mnx\u001b[0m\u001b[1;33m.\u001b[0m\u001b[0mGraph\u001b[0m\u001b[1;33m(\u001b[0m\u001b[1;33m)\u001b[0m\u001b[1;33m\u001b[0m\u001b[1;33m\u001b[0m\u001b[0m\n\u001b[0m\u001b[0;32m      3\u001b[0m     \u001b[0mW\u001b[0m \u001b[1;33m=\u001b[0m \u001b[0mdata\u001b[0m\u001b[1;33m[\u001b[0m\u001b[1;34m'W'\u001b[0m\u001b[1;33m]\u001b[0m\u001b[1;33m\u001b[0m\u001b[1;33m\u001b[0m\u001b[0m\n\u001b[0;32m      4\u001b[0m     \u001b[0mg_nx\u001b[0m \u001b[1;33m=\u001b[0m \u001b[0mnx\u001b[0m\u001b[1;33m.\u001b[0m\u001b[0mfrom_numpy_matrix\u001b[0m\u001b[1;33m(\u001b[0m\u001b[0mW\u001b[0m\u001b[1;33m)\u001b[0m\u001b[1;33m\u001b[0m\u001b[1;33m\u001b[0m\u001b[0m\n\u001b[0;32m      5\u001b[0m     \u001b[0medges\u001b[0m \u001b[1;33m=\u001b[0m \u001b[0mg_nx\u001b[0m\u001b[1;33m.\u001b[0m\u001b[0mget_edge_attributes\u001b[0m\u001b[1;33m(\u001b[0m\u001b[1;33m)\u001b[0m\u001b[1;33m\u001b[0m\u001b[1;33m\u001b[0m\u001b[0m\n",
      "\u001b[1;31mNameError\u001b[0m: name 'nx' is not defined"
     ],
     "ename": "NameError",
     "evalue": "name 'nx' is not defined",
     "output_type": "error"
    }
   ],
   "source": [],
   "metadata": {
    "collapsed": false,
    "pycharm": {
     "name": "#%%\n",
     "is_executing": false
    }
   }
  },
  {
   "cell_type": "code",
   "execution_count": null,
   "outputs": [],
   "source": [],
   "metadata": {
    "collapsed": false,
    "pycharm": {
     "name": "#%%\n"
    }
   }
  }
 ],
 "metadata": {
  "kernelspec": {
   "display_name": "Python 3",
   "language": "python",
   "name": "python3"
  },
  "language_info": {
   "codemirror_mode": {
    "name": "ipython",
    "version": 2
   },
   "file_extension": ".py",
   "mimetype": "text/x-python",
   "name": "python",
   "nbconvert_exporter": "python",
   "pygments_lexer": "ipython2",
   "version": "2.7.6"
  },
  "pycharm": {
   "stem_cell": {
    "cell_type": "raw",
    "source": [],
    "metadata": {
     "collapsed": false
    }
   }
  }
 },
 "nbformat": 4,
 "nbformat_minor": 0
}