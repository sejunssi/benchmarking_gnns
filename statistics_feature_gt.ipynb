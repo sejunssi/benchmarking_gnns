{
 "cells": [
  {
   "cell_type": "code",
   "execution_count": 4,
   "metadata": {
    "collapsed": true,
    "pycharm": {
     "is_executing": false
    }
   },
   "outputs": [],
   "source": [
    "import networkx as nx\n",
    "import numpy as np\n",
    "import torch\n",
    "import matplotlib.pyplot as plt\n",
    "from torch import nn\n",
    "from collections import OrderedDict "
   ]
  },
  {
   "cell_type": "code",
   "execution_count": 5,
   "outputs": [],
   "source": [
    "import dgl\n",
    "from data.data import LoadData\n",
    "\n",
    "\n",
    "class DotDict(dict):\n",
    "    def __init__(self, **kwds):\n",
    "        self.update(kwds)\n",
    "        self.__dict__ = self\n"
   ],
   "metadata": {
    "collapsed": false,
    "pycharm": {
     "name": "#%%\n",
     "is_executing": false
    }
   }
  },
  {
   "cell_type": "code",
   "execution_count": 9,
   "outputs": [
    {
     "name": "stdout",
     "text": [
      "tensor([[-0.1522, -0.1458,  0.3220,  ..., -0.2833, -0.6174,  1.6967],\n",
      "        [-1.9800, -1.1799,  0.8276,  ..., -0.3010, -0.7653,  1.7106],\n",
      "        [ 0.1535, -0.4368,  0.4580,  ..., -0.8300, -1.0034,  0.1282],\n",
      "        ...,\n",
      "        [ 0.8557,  1.9749,  0.0585,  ..., -0.8573, -0.5939, -0.0754],\n",
      "        [ 1.2725,  0.7688,  0.7435,  ...,  0.0567, -0.9191, -0.4316],\n",
      "        [-0.1134, -0.2709, -0.8935,  ...,  0.3223, -1.1869,  0.1937]],\n",
      "       device='cuda:0')\n"
     ],
     "output_type": "stream"
    }
   ],
   "source": [
    "# model = torch.load('out/SBMs_node_classification/checkpoints/GAT_SBM_CLUSTER_a8_GPU2_08h05m22s_on_May_03_2020/RUN_/epoch_69.pkl')\n",
    "# embedding_table = model['embedding_h.weight']\n",
    "# print(embedding_table)\n"
   ],
   "metadata": {
    "collapsed": false,
    "pycharm": {
     "name": "#%%\n",
     "is_executing": false
    }
   }
  },
  {
   "cell_type": "code",
   "execution_count": 31,
   "outputs": [
    {
     "name": "stdout",
     "text": [
      "[I] Loading dataset SBM_CLUSTER_SAMPLE_a8...\n",
      "C:\\Users\\user\\Desktop\\project\\benchmarking_gnns\n",
      "train, test, val sizes : 100 10 10\n",
      "[I] Finished loading.\n",
      "[I] Data load time: 0.1705s\n"
     ],
     "output_type": "stream"
    }
   ],
   "source": [
    "# def get_values_statistics(DATASET_NAME):\n",
    "#     dataset = LoadData(DATASET_NAME)\n",
    "#     train, test, val = dataset.train, dataset.test, dataset.val\n",
    "#     xe = []\n",
    "#     K_list = []\n",
    "#     feat_diff_list = []\n",
    "#     for data in train.dataset:\n",
    "#         W = data['W']\n",
    "#         g_nx = nx.from_numpy_matrix(W.data.numpy())\n",
    "#         edges = g_nx.edges\n",
    "#         for u, v in edges:\n",
    "#             node_label = data['node_label']\n",
    "#             u_label = node_label[u]\n",
    "#             v_label = node_label[v]\n",
    "#             loss = (- torch.sum(v_label * torch.log(u_label)))\n",
    "#             loss = loss.sum(dim=0)\n",
    "#             node_feat = data['node_feat']\n",
    "#             u_feat = embedding_table[node_feat[u].item()]\n",
    "#             v_feat = embedding_table[node_feat[v].item()]\n",
    "#             feat_sub = torch.sum(torch.abs(u_feat.sub(v_feat))).to(float).item()\n",
    "#             feat_diff_list.append(feat_sub)\n",
    "#             K = torch.abs(loss).float()/torch.norm((u_feat-v_feat).float(),2).float().item()\n",
    "#             xe.append(loss.item())\n",
    "#             K_list.append(K)  \n",
    "#     return xe, K_list, feat_diff_list\n",
    "# \n",
    "# DATASET_NAME_LIST = ['SBM_CLUSTER_SAMPLE_a8', 'SBM_CLUSTER_7', 'SBM_CLUSTER_a9']\n",
    "# xe, K_list, feat_diff_list = get_values_statistics(DATASET_NAME_LIST[0])"
   ],
   "metadata": {
    "collapsed": false,
    "pycharm": {
     "name": "#%%\n",
     "is_executing": false
    }
   }
  },
  {
   "cell_type": "code",
   "execution_count": null,
   "outputs": [],
   "source": [
    "# feat_max = int(np.max(feat_diff_list))\n",
    "# feat_range = [x for x in range(0, feat_max, 1)]\n",
    "# \n",
    "# def draw(xe, ed):\n",
    "#     fig=plt.figure()\n",
    "#     ax=fig.add_axes([0,0,1,1])\n",
    "#     ax.scatter(feat_diff_list,xe , color='r')\n",
    "#     ax.scatter(feat_diff_list, , color='b')\n",
    "    # ax.set_xlabel('Difference between feature u and v')\n",
    "    # ax.set_ylabel('Cross entropy')\n",
    "    # ax.set_title('scatter plot')\n",
    "    # plt.show()\n",
    "#         \n",
    "# draw(xe, feat_diff_list)\n",
    "        "
   ],
   "metadata": {
    "collapsed": false,
    "pycharm": {
     "name": "#%%\n"
    }
   }
  },
  {
   "cell_type": "code",
   "execution_count": 46,
   "outputs": [],
   "source": [
    "dataset_cluster_a8 = LoadData('SBM_CLUSTER_a8')\n",
    "dataset_cluster = LoadData('SBM_CLUSTER')"
   ],
   "metadata": {
    "collapsed": false,
    "pycharm": {
     "name": "#%%\n",
     "is_executing": false
    }
   }
  },
  {
   "cell_type": "code",
   "execution_count": null,
   "outputs": [],
   "source": [
    "# edge_idx 0 is any edge\n",
    "\n",
    "def get_edges(DATASET_NAME):\n",
    "    edges_dict = OrderedDict()\n",
    "    idx = 1\n",
    "    dataset = LoadData(DATASET_NAME)\n",
    "    train, test, val = dataset.train, dataset.test, dataset.val\n",
    "    for w_idx, data in enumerate(train.dataset):\n",
    "        W = data['W']\n",
    "        g_nx = nx.from_numpy_matrix(W.data.numpy())\n",
    "        edges = g_nx.edges\n",
    "        for u, v in edges:\n",
    "            if str(u)+\"_\"+str(v) +\"_\" + str(w_idx) in edges_dict.keys():\n",
    "                continue\n",
    "            edges_dict[str(u)+\"_\"+str(v)+\"_\"+str(w_idx)] = idx\n",
    "            idx+=1\n",
    "    return edges_dict"
   ],
   "metadata": {
    "collapsed": false,
    "pycharm": {
     "name": "#%%\n"
    }
   }
  },
  {
   "cell_type": "code",
   "execution_count": 47,
   "outputs": [
    {
     "name": "stdout",
     "text": [
      "[I] Loading dataset SBM_CLUSTER_a8...\n",
      "C:\\Users\\user\\Desktop\\project\\benchmarking_gnns\n",
      "train, test, val sizes : 10000 1000 1000\n",
      "[I] Finished loading.\n",
      "[I] Data load time: 43.4441s\n",
      "train, test, val sizes : 10000 1000 1000\n",
      "[I] Finished loading.\n",
      "[I] Data load time: 34.6652s\n"
     ],
     "output_type": "stream"
    },
    {
     "name": "stderr",
     "text": [
      "IOPub data rate exceeded.\n",
      "The notebook server will temporarily stop sending output\n",
      "to the client in order to avoid crashing it.\n",
      "To change this limit, set the config variable\n",
      "`--NotebookApp.iopub_data_rate_limit`.\n",
      "\n",
      "Current values:\n",
      "NotebookApp.iopub_data_rate_limit=1000000.0 (bytes/sec)\n",
      "NotebookApp.rate_limit_window=3.0 (secs)\n",
      "\n",
      "IOPub data rate exceeded.\n",
      "The notebook server will temporarily stop sending output\n",
      "to the client in order to avoid crashing it.\n",
      "To change this limit, set the config variable\n",
      "`--NotebookApp.iopub_data_rate_limit`.\n",
      "\n",
      "Current values:\n",
      "NotebookApp.iopub_data_rate_limit=1000000.0 (bytes/sec)\n",
      "NotebookApp.rate_limit_window=3.0 (secs)\n",
      "\n"
     ],
     "output_type": "stream"
    }
   ],
   "source": [
    "edge_dict_cluster_a8 = get_edges('SBM_CLUSTER_a8')\n",
    "print(edge_dict_cluster_a8)\n",
    "edge_dict_cluster = get_edges('SBM_CLUSTER')\n",
    "print(edge_dict_cluster)\n",
    "# edge_dict_cluster = get_edges('SBM_PATTERN')"
   ],
   "metadata": {
    "collapsed": false,
    "pycharm": {
     "name": "#%%\n",
     "is_executing": false
    }
   }
  },
  {
   "cell_type": "code",
   "execution_count": null,
   "outputs": [
    {
     "name": "stdout",
     "text": [
      "[I] Loading dataset SBM_CLUSTER...\n",
      "train, test, val sizes : 10000 1000 1000\n",
      "[I] Finished loading.\n",
      "[I] Data load time: 35.9160s\n"
     ],
     "output_type": "stream"
    }
   ],
   "source": [
    "def get_values_statistics(DATASET_NAME, edge_dict):\n",
    "    dataset = LoadData(DATASET_NAME)\n",
    "    train, test, val = dataset.train, dataset.test, dataset.val\n",
    "    xe = []\n",
    "    # K_list = []\n",
    "    # feat_diff_list = []\n",
    "    edge_idx_list = []\n",
    "    for w_idx, data in enumerate(train.dataset):\n",
    "        W = data['W']\n",
    "        g_nx = nx.from_numpy_matrix(W.data.numpy())\n",
    "        edges = g_nx.edges\n",
    "        for u, v in edges:\n",
    "            edge_idx = 0\n",
    "\n",
    "            key_edge = str(u)+\"_\"+str(v) +\"_\"+str(w_idx)\n",
    "            if key_edge in edge_dict.keys():\n",
    "                edge_idx = edge_dict[key_edge]\n",
    "            edge_idx_list.append(edge_idx)\n",
    "            \n",
    "            node_label = data['node_label']\n",
    "            u_label = node_label[u].to(float)\n",
    "            v_label = node_label[v].to(float)\n",
    "            \n",
    "            loss = (- torch.sum(v_label * torch.log(u_label)))\n",
    "            loss = loss.sum(dim=0)\n",
    "            xe.append(loss.item())\n",
    "    return xe, edge_idx_list\n",
    "\n",
    "DATASET_NAME_LIST = ['SBM_CLUSTER', 'SBM_CLUSTER_a8']\n",
    "xe, edge_idx_list= get_values_statistics(DATASET_NAME_LIST[0], edge_dict_cluster)\n",
    "xe2, edge_idx_list2= get_values_statistics(DATASET_NAME_LIST[1], edge_dict_cluster)"
   ],
   "metadata": {
    "collapsed": false,
    "pycharm": {
     "name": "#%%\n",
     "is_executing": true
    }
   }
  },
  {
   "cell_type": "code",
   "execution_count": null,
   "outputs": [],
   "source": [
    "def draw(xe, edge_idx_list, xe2, edge_idx_list2):\n",
    "    fig=plt.figure()\n",
    "    ax=fig.add_axes([0,0,1,1])\n",
    "    ax.scatter(edge_idx_list, xe , color='r')\n",
    "    ax.scatter(edge_idx_list2, xe2, color='b')\n",
    "    ax.set_xlabel('edge idxs')\n",
    "    ax.set_ylabel('Cross entropy')\n",
    "    ax.set_title('scatter plot')\n",
    "    plt.show()\n",
    "        \n",
    "draw(xe[::10000], edge_idx_list[::10000], xe2[::10000], edge_idx_list2[::10000])\n",
    "\n"
   ],
   "metadata": {
    "collapsed": false,
    "pycharm": {
     "name": "#%%\n",
     "is_executing": false
    }
   }
  },
  {
   "cell_type": "code",
   "execution_count": 39,
   "outputs": [
    {
     "name": "stdout",
     "text": [
      "220607\n"
     ],
     "output_type": "stream"
    }
   ],
   "source": [
    "print(len(edge_idx_list))\n",
    "\n",
    "\n",
    "\n",
    "\n",
    "\n"
   ],
   "metadata": {
    "collapsed": false,
    "pycharm": {
     "name": "#%%\n",
     "is_executing": false
    }
   }
  },
  {
   "cell_type": "code",
   "execution_count": null,
   "outputs": [],
   "source": [
    "\n"
   ],
   "metadata": {
    "collapsed": false,
    "pycharm": {
     "name": "#%%\n"
    }
   }
  },
  {
   "cell_type": "code",
   "execution_count": 3,
   "outputs": [
    {
     "traceback": [
      "\u001b[1;31m---------------------------------------------------------------------------\u001b[0m",
      "\u001b[1;31mNameError\u001b[0m                                 Traceback (most recent call last)",
      "\u001b[1;32m<ipython-input-3-d78169a6a43c>\u001b[0m in \u001b[0;36m<module>\u001b[1;34m\u001b[0m\n\u001b[0;32m      1\u001b[0m \u001b[1;32mfor\u001b[0m \u001b[0mdata\u001b[0m \u001b[1;32min\u001b[0m \u001b[0mtrain\u001b[0m\u001b[1;33m.\u001b[0m\u001b[0mdataset\u001b[0m\u001b[1;33m:\u001b[0m\u001b[1;33m\u001b[0m\u001b[1;33m\u001b[0m\u001b[0m\n\u001b[1;32m----> 2\u001b[1;33m     \u001b[0mG\u001b[0m \u001b[1;33m=\u001b[0m \u001b[0mnx\u001b[0m\u001b[1;33m.\u001b[0m\u001b[0mGraph\u001b[0m\u001b[1;33m(\u001b[0m\u001b[1;33m)\u001b[0m\u001b[1;33m\u001b[0m\u001b[1;33m\u001b[0m\u001b[0m\n\u001b[0m\u001b[0;32m      3\u001b[0m     \u001b[0mW\u001b[0m \u001b[1;33m=\u001b[0m \u001b[0mdata\u001b[0m\u001b[1;33m[\u001b[0m\u001b[1;34m'W'\u001b[0m\u001b[1;33m]\u001b[0m\u001b[1;33m\u001b[0m\u001b[1;33m\u001b[0m\u001b[0m\n\u001b[0;32m      4\u001b[0m     \u001b[0mg_nx\u001b[0m \u001b[1;33m=\u001b[0m \u001b[0mnx\u001b[0m\u001b[1;33m.\u001b[0m\u001b[0mfrom_numpy_matrix\u001b[0m\u001b[1;33m(\u001b[0m\u001b[0mW\u001b[0m\u001b[1;33m)\u001b[0m\u001b[1;33m\u001b[0m\u001b[1;33m\u001b[0m\u001b[0m\n\u001b[0;32m      5\u001b[0m     \u001b[0medges\u001b[0m \u001b[1;33m=\u001b[0m \u001b[0mg_nx\u001b[0m\u001b[1;33m.\u001b[0m\u001b[0mget_edge_attributes\u001b[0m\u001b[1;33m(\u001b[0m\u001b[1;33m)\u001b[0m\u001b[1;33m\u001b[0m\u001b[1;33m\u001b[0m\u001b[0m\n",
      "\u001b[1;31mNameError\u001b[0m: name 'nx' is not defined"
     ],
     "ename": "NameError",
     "evalue": "name 'nx' is not defined",
     "output_type": "error"
    }
   ],
   "source": [],
   "metadata": {
    "collapsed": false,
    "pycharm": {
     "name": "#%%\n",
     "is_executing": false
    }
   }
  },
  {
   "cell_type": "code",
   "execution_count": null,
   "outputs": [],
   "source": [],
   "metadata": {
    "collapsed": false,
    "pycharm": {
     "name": "#%%\n"
    }
   }
  }
 ],
 "metadata": {
  "kernelspec": {
   "display_name": "Python 3",
   "language": "python",
   "name": "python3"
  },
  "language_info": {
   "codemirror_mode": {
    "name": "ipython",
    "version": 2
   },
   "file_extension": ".py",
   "mimetype": "text/x-python",
   "name": "python",
   "nbconvert_exporter": "python",
   "pygments_lexer": "ipython2",
   "version": "2.7.6"
  },
  "pycharm": {
   "stem_cell": {
    "cell_type": "raw",
    "source": [],
    "metadata": {
     "collapsed": false
    }
   }
  }
 },
 "nbformat": 4,
 "nbformat_minor": 0
}