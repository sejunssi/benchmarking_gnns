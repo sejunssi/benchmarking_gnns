{
 "cells": [
  {
   "cell_type": "markdown",
   "metadata": {},
   "source": [
    "# Notebook for generating and saving SBM CLUSTER graphs"
   ]
  },
  {
   "cell_type": "code",
   "execution_count": 6,
   "metadata": {
    "pycharm": {
     "is_executing": false
    }
   },
   "outputs": [],
   "source": [
    "import numpy as np\n",
    "import torch\n",
    "import pickle\n",
    "import time\n",
    "\n",
    "%matplotlib inline\n",
    "import matplotlib.pyplot as plt\n",
    "import scipy.sparse\n"
   ]
  },
  {
   "cell_type": "markdown",
   "metadata": {},
   "source": [
    "# Generate SBM CLUSTER graphs"
   ]
  },
  {
   "cell_type": "code",
   "execution_count": 7,
   "metadata": {
    "pycharm": {
     "is_executing": false
    }
   },
   "outputs": [
    {
     "name": "stdout",
     "text": [
      "{'nb_clusters': 6, 'size_min': 5, 'size_max': 35, 'p': 0.55, 'q': 0.25}\n",
      "<__main__.generate_SBM_graph object at 0x000001DFAD864688>\n",
      "83\n",
      "tensor([[0, 0, 0,  ..., 1, 1, 1],\n",
      "        [0, 0, 0,  ..., 1, 0, 0],\n",
      "        [0, 0, 0,  ..., 1, 0, 0],\n",
      "        ...,\n",
      "        [1, 1, 1,  ..., 0, 0, 1],\n",
      "        [1, 0, 0,  ..., 0, 0, 0],\n",
      "        [1, 0, 0,  ..., 1, 0, 0]], dtype=torch.int8)\n",
      "tensor([75, 32, 57, 38, 12, 14, 23,  3, 40, 56,  9,  0, 66, 68, 35, 67,  8, 79,\n",
      "        64, 65, 33, 10, 39, 81, 21, 70, 78, 25, 27, 74, 37, 82, 71, 45, 19, 20,\n",
      "        16, 54, 30, 55, 58, 51, 36, 52, 43, 47,  5, 13,  4, 24, 18,  1, 28, 44,\n",
      "        61, 77, 60, 34, 26, 49, 46, 41, 63, 53, 17, 29, 72, 15, 11,  7, 22, 59,\n",
      "        62,  6, 48, 31,  2, 73, 69, 42, 80, 50, 76], dtype=torch.int16)\n",
      "tensor([0, 0, 0, 0, 2, 0, 0, 0, 0, 0, 0, 1, 0, 0, 0, 0, 0, 0, 0, 0, 0, 0, 0, 0,\n",
      "        0, 0, 0, 0, 0, 0, 0, 0, 0, 0, 0, 0, 0, 0, 0, 0, 0, 0, 0, 0, 0, 4, 0, 0,\n",
      "        0, 0, 0, 0, 0, 0, 0, 0, 0, 0, 0, 5, 0, 0, 0, 0, 0, 3, 0, 0, 0, 0, 0, 0,\n",
      "        0, 0, 0, 0, 0, 6, 0, 0, 0, 0, 0], dtype=torch.int16)\n",
      "tensor([5, 2, 4, 2, 1, 1, 1, 0, 3, 4, 1, 0, 5, 5, 2, 5, 1, 5, 4, 5, 2, 1, 3, 5,\n",
      "        1, 5, 5, 1, 1, 5, 2, 5, 5, 3, 1, 1, 1, 4, 2, 4, 4, 4, 2, 4, 3, 3, 0, 1,\n",
      "        0, 1, 1, 0, 1, 3, 4, 5, 4, 2, 1, 4, 3, 3, 4, 4, 1, 2, 5, 1, 1, 0, 1, 4,\n",
      "        4, 0, 4, 2, 0, 5, 5, 3, 5, 4, 5], dtype=torch.int16)\n"
     ],
     "output_type": "stream"
    }
   ],
   "source": [
    "\n",
    "def schuffle(W,c):\n",
    "    # relabel the vertices at random\n",
    "    idx=np.random.permutation( W.shape[0] )\n",
    "    #idx2=np.argsort(idx) # for index ordering wrt classes\n",
    "    W_new=W[idx,:]\n",
    "    W_new=W_new[:,idx]\n",
    "    c_new=c[idx]\n",
    "    return W_new , c_new , idx \n",
    "\n",
    "\n",
    "def block_model(c,p,q):\n",
    "    n=len(c)\n",
    "    W=np.zeros((n,n))\n",
    "    for i in range(n):\n",
    "        for j in range(i+1,n):\n",
    "            if c[i]==c[j]:\n",
    "                prob=p\n",
    "            else:\n",
    "                prob=q\n",
    "            if np.random.binomial(1,prob)==1:\n",
    "                W[i,j]=1\n",
    "                W[j,i]=1     \n",
    "    return W\n",
    "\n",
    "\n",
    "def unbalanced_block_model(nb_of_clust, clust_size_min, clust_size_max, p, q):  \n",
    "    c = []\n",
    "    for r in range(nb_of_clust):\n",
    "        if clust_size_max==clust_size_min:\n",
    "            clust_size_r = clust_size_max\n",
    "        else:\n",
    "            clust_size_r = np.random.randint(clust_size_min,clust_size_max,size=1)[0]\n",
    "        val_r = np.repeat(r,clust_size_r,axis=0)\n",
    "        c.append(val_r)\n",
    "    c = np.concatenate(c)  \n",
    "    W = block_model(c,p,q)  \n",
    "    return W,c\n",
    "\n",
    "\n",
    "class generate_SBM_graph():\n",
    "\n",
    "    def __init__(self, SBM_parameters): \n",
    "\n",
    "        # parameters\n",
    "        nb_of_clust = SBM_parameters['nb_clusters']\n",
    "        clust_size_min = SBM_parameters['size_min']\n",
    "        clust_size_max = SBM_parameters['size_max']\n",
    "        p = SBM_parameters['p']\n",
    "        q = SBM_parameters['q']\n",
    "\n",
    "        # block model\n",
    "        W, c = unbalanced_block_model(nb_of_clust, clust_size_min, clust_size_max, p, q)\n",
    "        \n",
    "        # shuffle\n",
    "        W, c, idx = schuffle(W,c)\n",
    "        \n",
    "        # signal on block model\n",
    "        u = np.zeros(c.shape[0])\n",
    "        for r in range(nb_of_clust):\n",
    "            cluster = np.where(c==r)[0]\n",
    "            s = cluster[np.random.randint(cluster.shape[0])]\n",
    "            u[s] = r+1\n",
    "\n",
    "        # target\n",
    "        target = c\n",
    "        \n",
    "        # convert to pytorch\n",
    "        W = torch.from_numpy(W)\n",
    "        W = W.to(torch.int8)\n",
    "        idx = torch.from_numpy(idx) \n",
    "        idx = idx.to(torch.int16)\n",
    "        u = torch.from_numpy(u) \n",
    "        u = u.to(torch.int16)                      \n",
    "        target = torch.from_numpy(target)\n",
    "        target = target.to(torch.int16)\n",
    "        \n",
    "        # attributes\n",
    "        self.nb_nodes = W.size(0)\n",
    "        self.W = W\n",
    "        self.rand_idx = idx\n",
    "        self.node_feat = u\n",
    "        self.node_label = target\n",
    "        \n",
    "\n",
    "    \n",
    "    \n",
    "    \n",
    "# configuration   \n",
    "SBM_parameters = {}\n",
    "SBM_parameters['nb_clusters'] = 6 \n",
    "SBM_parameters['size_min'] = 5 \n",
    "SBM_parameters['size_max'] = 35 \n",
    "SBM_parameters['p'] = 0.55 \n",
    "SBM_parameters['q'] = 0.25 \n",
    "print(SBM_parameters)\n",
    "    \n",
    "\n",
    "data = generate_SBM_graph(SBM_parameters)\n",
    "\n",
    "print(data)\n",
    "print(data.nb_nodes)\n",
    "print(data.W)\n",
    "print(data.rand_idx)\n",
    "print(data.node_feat)\n",
    "print(data.node_label)\n"
   ]
  },
  {
   "cell_type": "code",
   "execution_count": 8,
   "metadata": {
    "pycharm": {
     "is_executing": false
    }
   },
   "outputs": [
    {
     "data": {
      "text/plain": "<Figure size 432x288 with 1 Axes>",
      "image/png": "[encoded data removed]"
     },
     "metadata": {
      "needs_background": "light"
     },
     "output_type": "display_data"
    },
    {
     "data": {
      "text/plain": "<Figure size 432x288 with 1 Axes>",
      "image/png": "[encoded data removed]"
     },
     "metadata": {
      "needs_background": "light"
     },
     "output_type": "display_data"
    }
   ],
   "source": [
    "#Plot Adj matrix\n",
    "\n",
    "W = data.W\n",
    "plt.spy(W,precision=0.01, markersize=1)\n",
    "plt.show()\n",
    "\n",
    "idx = np.argsort(data.rand_idx) \n",
    "W = data.W\n",
    "W2 = W[idx,:]\n",
    "W2 = W2[:,idx]\n",
    "plt.spy(W2,precision=0.01, markersize=1)\n",
    "plt.show()\n"
   ]
  },
  {
   "cell_type": "code",
   "execution_count": 8,
   "metadata": {
    "pycharm": {
     "is_executing": false
    }
   },
   "outputs": [],
   "source": []
  },
  {
   "cell_type": "code",
   "execution_count": 12,
   "metadata": {
    "scrolled": false,
    "pycharm": {
     "is_executing": false
    }
   },
   "outputs": [
    {
     "name": "stdout",
     "text": [
      "0\n",
      "10\n",
      "0\n",
      "10\n",
      "0\n",
      "10\n",
      "Time (sec): 2.803502082824707\n"
     ],
     "output_type": "stream"
    },
    {
     "data": {
      "text/plain": "<Figure size 432x288 with 1 Axes>",
      "image/png": "[encoded data removed]"
     },
     "metadata": {
      "needs_background": "light"
     },
     "output_type": "display_data"
    },
    {
     "data": {
      "text/plain": "<Figure size 432x288 with 1 Axes>",
      "image/png": "[encoded data removed]"
     },
     "metadata": {
      "needs_background": "light"
     },
     "output_type": "display_data"
    },
    {
     "data": {
      "text/plain": "<Figure size 432x288 with 1 Axes>",
      "image/png": "[encoded data removed]"
     },
     "metadata": {
      "needs_background": "light"
     },
     "output_type": "display_data"
    }
   ],
   "source": [
    "# Generate and save SBM graphs\n",
    "\n",
    "class DotDict(dict):\n",
    "    def __init__(self, **kwds):\n",
    "        self.update(kwds)\n",
    "        self.__dict__ = self\n",
    "\n",
    "def generate_semisuperclust_dataset(nb_graphs):\n",
    "    dataset = []\n",
    "    for i in range(nb_graphs):\n",
    "        if not i%250:\n",
    "            print(i)\n",
    "        data = generate_SBM_graph(SBM_parameters)\n",
    "        graph = DotDict()\n",
    "        graph.nb_nodes = data.nb_nodes\n",
    "        graph.W = data.W\n",
    "        graph.rand_idx = data.rand_idx\n",
    "        graph.node_feat = data.node_feat\n",
    "        graph.node_label = data.node_label\n",
    "        dataset.append(graph)\n",
    "    return dataset\n",
    "\n",
    "def plot_histo_graphs(dataset, title):\n",
    "    # histogram of graph sizes\n",
    "    graph_sizes = []\n",
    "    for graph in dataset:\n",
    "        graph_sizes.append(graph.nb_nodes)\n",
    "    plt.figure(1)\n",
    "    plt.hist(graph_sizes, bins=50)\n",
    "    plt.title(title)\n",
    "    plt.show()\n",
    "     \n",
    "def SBMs_CLUSTER(nb_graphs, name):\n",
    "    dataset = generate_semisuperclust_dataset(nb_graphs)\n",
    "    print(len(dataset))\n",
    "    with open(name+'.pkl',\"wb\") as f:\n",
    "        pickle.dump(dataset,f)\n",
    "    plot_histo_graphs(dataset,name)\n",
    "    \n",
    "\n",
    "\n",
    "\n",
    "start = time.time()\n",
    "\n",
    "nb_graphs = 10 # train\n",
    "#nb_graphs = 3333 # train\n",
    "#nb_graphs = 500 # train\n",
    "#nb_graphs = 20 # train\n",
    "SBMs_CLUSTER(nb_graphs, 'SBM_CLUSTER_train')\n",
    "\n",
    "import pickle\n",
    "\n",
    "with open('SBM_CLUSTER_train.pkl', 'rb') as f:\n",
    "    data = pickle.load(f)\n",
    "\n",
    "data[5]\n",
    "\n",
    "# with open('new_SBM_CLUSTER_train_before_smoothing.pkl', 'wb') as f:\n",
    "#     pickle.dump(data, f)\n",
    "\n",
    "# dataset = LoadData(SBM_CLUSTER) # 29s\n",
    "# trainset, valset, testset = dataset.train, dataset.val, dataset.test\n",
    "\n",
    "# with open('SBM_CLUSTER_train.pkl', 'rb') as f:\n",
    "#     data = pickle.load(f)\n",
    "\n",
    "\n",
    "import networkx as nx\n",
    "\n",
    "#train = data\n",
    "\n",
    "W_list = list(map(lambda d: d['W'].numpy(), data))\n",
    "W_lists = list(map(lambda d: d['W'].numpy(), data))\n",
    "rand_idx_list = list(map(lambda d: d['rand_idx'], data))\n",
    "node_feat_list = list(map(lambda d: d['node_feat'], data))\n",
    "node_label_list = list(map(lambda d: d['node_label'].numpy(), data))\n",
    "\n",
    "class ProgressSmoothing:\n",
    "    def __init__(self, g_nx):\n",
    "        self.g_nx = g_nx\n",
    "\n",
    "    def _get_weight_list(self, a, m, neighbor_list_dict):\n",
    "        denominator = 0\n",
    "        weight_list = [0 for _ in range(m)]\n",
    "        for h in range(0, m):\n",
    "            weighting = np.power(a, (m - h))\n",
    "            # print(len(neighbor_list_dict[h]))\n",
    "            num_nodes = len(neighbor_list_dict[h])\n",
    "            weight_list[h] = weighting * num_nodes\n",
    "\n",
    "            #             print(weighting, \"@\")\n",
    "            #             print(num_nodes, \"#\")\n",
    "            denominator += weighting * num_nodes\n",
    "        #         print(type(denominator))\n",
    "        #         print(type(weight_list))\n",
    "        #        print(weight_list/denominator)\n",
    "        return weight_list / denominator\n",
    "\n",
    "    def nei_dict(self, hop_dict):\n",
    "        neighbor_list_dict = {}  # neighbor_list_dict = {which_hop: [index1, index5, ....]}\n",
    "        for u, h in hop_dict.items():  # hop_dict = {neighbor_id : which_hop}\n",
    "            if not h in neighbor_list_dict.keys():\n",
    "                n_list = [u]  # include self node\n",
    "                neighbor_list_dict[h] = n_list\n",
    "            else:\n",
    "                neighbor_list_dict[h].append(u)\n",
    "        return neighbor_list_dict\n",
    "\n",
    "    def get_neigh_smooth_weight(self, v, a):\n",
    "        #         hop_dict = nx.single_source_shortest_path_length(self.g_nx, v)\n",
    "        hop_dict = nx.single_source_shortest_path_length(self.g_nx, v, 2)\n",
    "        neighbor_list_dict = self.nei_dict(hop_dict)\n",
    "        #         print(neighbor_list_dict)\n",
    "        m = np.max(list(neighbor_list_dict.keys()))\n",
    "        weight_list = self._get_weight_list(a, m, neighbor_list_dict)\n",
    "        # print(weight_list)\n",
    "        nidx_weight_list = []\n",
    "        for h in range(0, m):\n",
    "            for u in neighbor_list_dict[h]:\n",
    "                nidx_weight_list.append((int(u), weight_list[h]))\n",
    "        return nidx_weight_list\n",
    "\n",
    "    def smooth_all(self, a, labels):\n",
    "        total_nidx_weight_list = []\n",
    "        for v in list(g_nx.nodes):\n",
    "            # print(v)\n",
    "            nidx_weight_list = self.get_neigh_smooth_weight(v, a)\n",
    "            # print(nidx_weight_list)\n",
    "            total_nidx_weight_list.extend(nidx_weight_list)\n",
    "        smoothed_labels = labels.copy()\n",
    "        smoothed_labels = smoothed_labels.astype(float)\n",
    "        for u, w in total_nidx_weight_list:\n",
    "            smoothed_labels[u] *= float(w)\n",
    "        return smoothed_labels\n",
    "\n",
    "train_label = []\n",
    "for W, labels in zip(W_lists, node_label_list):\n",
    "   # train_W =[]\n",
    "#    W = W.numpy()\n",
    "#    labels = node_label_list.numpy()\n",
    "    g_nx = nx.from_numpy_matrix(W)\n",
    "    ps = ProgressSmoothing(g_nx=g_nx)\n",
    "    # train_W.append(W)\n",
    "    train_label.append(ps.smooth_all(2, labels))\n",
    "\n",
    "node_label = train_label\n",
    "\n",
    "# new_data = [{'W':W, 'rand_idx': rand_idx, 'node_feat': node_feat, 'node_label': node_label}\n",
    "#         for W, rand_idx, node_feat, node_label in zip(W_list, rand_idx_list, node_feat_list, node_label)]\n",
    "\n",
    "for idx, smoothed_label in enumerate(node_label):\n",
    "    data[idx]['node_label'] = torch.tensor(smoothed_label)\n",
    "\n",
    "# ps = ProgressSmoothing(g_nx=g_nx)\n",
    "# smoothed_labels = ps.smooth_all(2, labels)\n",
    "\n",
    "# with open('new_SBM_CLUSTER_train_0402_03_dataset.pkl', 'wb') as f:\n",
    "#     pickle.dump(data, f)\n",
    "#\n",
    "with open('smoothed_SBM_CLUSTER_0406', 'wb') as f:\n",
    "     pickle.dump(data, f)\n",
    "\n",
    "    \n",
    "nb_graphs = 10 # val\n",
    "#nb_graphs = 333 # val\n",
    "#nb_graphs = 100 # val\n",
    "#nb_graphs = 5 # val\n",
    "SBMs_CLUSTER(nb_graphs, 'SBM_CLUSTER_val')\n",
    "\n",
    "    \n",
    "nb_graphs = 10 # test\n",
    "#nb_graphs = 333 # test\n",
    "#nb_graphs = 100 # test\n",
    "#nb_graphs = 5 # test\n",
    "SBMs_CLUSTER(nb_graphs, 'SBM_CLUSTER_test')\n",
    "\n",
    "print('Time (sec):',time.time() - start) # 190s\n"
   ]
  },
  {
   "cell_type": "markdown",
   "metadata": {},
   "source": [
    "# Convert to DGL format and save with pickle"
   ]
  },
  {
   "cell_type": "code",
   "execution_count": 13,
   "metadata": {
    "pycharm": {
     "is_executing": false
    }
   },
   "outputs": [
    {
     "name": "stdout",
     "text": [
      "C:\\Users\\user\\Desktop\\project\\benchmarking_gnns\n"
     ],
     "output_type": "stream"
    }
   ],
   "source": [
    "import os\n",
    "os.chdir('../../') # go to root folder of the project\n",
    "print(os.getcwd())\n"
   ]
  },
  {
   "cell_type": "code",
   "execution_count": 14,
   "metadata": {
    "pycharm": {
     "is_executing": false
    }
   },
   "outputs": [],
   "source": [
    "\n",
    "import pickle\n",
    "\n",
    "%load_ext autoreload\n",
    "%autoreload 2\n",
    "\n",
    "from data.SBMs import SBMsDatasetDGL \n",
    "\n",
    "from data.data import LoadData\n",
    "from torch.utils.data import DataLoader\n",
    "from data.SBMs import SBMsDataset\n"
   ]
  },
  {
   "cell_type": "code",
   "execution_count": 15,
   "metadata": {
    "pycharm": {
     "is_executing": false
    }
   },
   "outputs": [
    {
     "name": "stdout",
     "text": [
      "[I] Loading data ...\n",
      "preparing 10 graphs for the TRAIN set...\n",
      "preparing 10 graphs for the TEST set...\n",
      "preparing 10 graphs for the VAL set...\n",
      "[I] Finished loading.\n",
      "[I] Data load time: 14.3347s\n"
     ],
     "output_type": "stream"
    }
   ],
   "source": [
    "DATASET_NAME = 'SBM_CLUSTER'\n",
    "dataset = SBMsDatasetDGL(DATASET_NAME)  #3983s\n"
   ]
  },
  {
   "cell_type": "code",
   "execution_count": 16,
   "metadata": {
    "pycharm": {
     "is_executing": false
    }
   },
   "outputs": [
    {
     "name": "stdout",
     "text": [
      "10\n",
      "10\n",
      "10\n",
      "(DGLGraph(num_nodes=90, num_edges=2588,\n",
      "         ndata_schemes={'feat': Scheme(shape=(), dtype=torch.int64)}\n",
      "         edata_schemes={'feat': Scheme(shape=(1,), dtype=torch.float32)}), tensor([2, 1, 3, 2, 2, 5, 2, 3, 2, 0, 2, 2, 2, 2, 2, 2, 1, 3, 3, 1, 0, 1, 3, 0,\n",
      "        3, 4, 2, 2, 3, 2, 2, 0, 1, 3, 4, 4, 0, 0, 1, 0, 3, 2, 2, 2, 2, 2, 3, 3,\n",
      "        2, 3, 2, 2, 2, 4, 4, 5, 0, 1, 3, 0, 5, 4, 5, 5, 0, 1, 3, 2, 3, 3, 1, 3,\n",
      "        3, 2, 2, 4, 2, 3, 2, 5, 3, 4, 3, 0, 2, 3, 3, 2, 2, 2],\n",
      "       dtype=torch.int16))\n",
      "(DGLGraph(num_nodes=93, num_edges=2606,\n",
      "         ndata_schemes={'feat': Scheme(shape=(), dtype=torch.int64)}\n",
      "         edata_schemes={'feat': Scheme(shape=(1,), dtype=torch.float32)}), tensor([5, 4, 0, 0, 4, 2, 0, 5, 1, 0, 4, 4, 2, 0, 2, 3, 2, 0, 0, 4, 2, 3, 2, 2,\n",
      "        4, 2, 4, 4, 2, 5, 0, 0, 2, 4, 5, 0, 4, 0, 2, 3, 2, 4, 4, 5, 0, 4, 1, 0,\n",
      "        0, 0, 5, 4, 4, 4, 4, 2, 1, 5, 0, 4, 2, 2, 4, 3, 5, 5, 4, 5, 4, 2, 5, 2,\n",
      "        5, 2, 1, 5, 0, 5, 0, 1, 4, 5, 3, 0, 5, 0, 0, 3, 1, 4, 3, 2, 2],\n",
      "       dtype=torch.int16))\n",
      "(DGLGraph(num_nodes=111, num_edges=3712,\n",
      "         ndata_schemes={'feat': Scheme(shape=(), dtype=torch.int64)}\n",
      "         edata_schemes={'feat': Scheme(shape=(1,), dtype=torch.float32)}), tensor([1, 4, 0, 4, 2, 0, 5, 4, 0, 4, 1, 4, 3, 3, 2, 5, 3, 5, 2, 4, 5, 2, 1, 5,\n",
      "        3, 1, 2, 4, 4, 3, 5, 4, 3, 2, 0, 3, 2, 5, 4, 0, 4, 2, 5, 4, 4, 4, 4, 5,\n",
      "        1, 4, 3, 1, 4, 2, 4, 2, 3, 4, 3, 2, 4, 5, 4, 4, 4, 2, 4, 4, 3, 0, 2, 3,\n",
      "        2, 4, 5, 3, 3, 5, 3, 4, 4, 3, 1, 2, 4, 5, 2, 2, 4, 4, 2, 3, 2, 2, 2, 5,\n",
      "        3, 1, 2, 5, 5, 0, 3, 0, 4, 4, 2, 4, 3, 3, 3], dtype=torch.int16))\n"
     ],
     "output_type": "stream"
    }
   ],
   "source": [
    "print(len(dataset.train))\n",
    "print(len(dataset.val))\n",
    "print(len(dataset.test))\n",
    "\n",
    "print(dataset.train[0])\n",
    "print(dataset.val[0])\n",
    "print(dataset.test[0])\n"
   ]
  },
  {
   "cell_type": "code",
   "execution_count": 17,
   "metadata": {
    "pycharm": {
     "is_executing": false
    }
   },
   "outputs": [
    {
     "name": "stdout",
     "text": [
      "Time (sec): 0.019947290420532227\n"
     ],
     "output_type": "stream"
    }
   ],
   "source": [
    "start = time.time()\n",
    "\n",
    "with open('data/SBMs/SBM_CLUSTER.pkl','wb') as f:\n",
    "        pickle.dump([dataset.train,dataset.val,dataset.test],f)\n",
    "        \n",
    "print('Time (sec):',time.time() - start)\n"
   ]
  },
  {
   "cell_type": "markdown",
   "metadata": {},
   "source": [
    "# Test load function"
   ]
  },
  {
   "cell_type": "code",
   "execution_count": 18,
   "metadata": {
    "pycharm": {
     "is_executing": false
    }
   },
   "outputs": [
    {
     "name": "stdout",
     "text": [
      "[I] Loading dataset SBM_CLUSTER...\n",
      "train, test, val sizes : 10 10 10\n",
      "[I] Finished loading.\n",
      "[I] Data load time: 0.0349s\n"
     ],
     "output_type": "stream"
    }
   ],
   "source": [
    "DATASET_NAME = 'SBM_CLUSTER'\n",
    "dataset = LoadData(DATASET_NAME) # 29s\n",
    "trainset, valset, testset = dataset.train, dataset.val, dataset.test\n"
   ]
  },
  {
   "cell_type": "code",
   "execution_count": 19,
   "metadata": {
    "pycharm": {
     "is_executing": false
    }
   },
   "outputs": [
    {
     "name": "stdout",
     "text": [
      "<class 'data.SBMs.SBMsDataset'>\n",
      "Time (sec): 0.0\n"
     ],
     "output_type": "stream"
    }
   ],
   "source": [
    "start = time.time()\n",
    "\n",
    "batch_size = 10\n",
    "collate = SBMsDataset.collate\n",
    "print(SBMsDataset)\n",
    "train_loader = DataLoader(trainset, batch_size=batch_size, shuffle=True, collate_fn=collate)\n",
    "\n",
    "print('Time (sec):',time.time() - start) #0.002s\n"
   ]
  },
  {
   "cell_type": "code",
   "execution_count": null,
   "metadata": {},
   "outputs": [],
   "source": []
  },
  {
   "cell_type": "code",
   "execution_count": null,
   "metadata": {},
   "outputs": [],
   "source": []
  }
 ],
 "metadata": {
  "kernelspec": {
   "display_name": "Python 3",
   "language": "python",
   "name": "python3"
  },
  "language_info": {
   "codemirror_mode": {
    "name": "ipython",
    "version": 3
   },
   "file_extension": ".py",
   "mimetype": "text/x-python",
   "name": "python",
   "nbconvert_exporter": "python",
   "pygments_lexer": "ipython3",
   "version": "3.7.4"
  },
  "pycharm": {
   "stem_cell": {
    "cell_type": "raw",
    "source": [],
    "metadata": {
     "collapsed": false
    }
   }
  }
 },
 "nbformat": 4,
 "nbformat_minor": 2
}